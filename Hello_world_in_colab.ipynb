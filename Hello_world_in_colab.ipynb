{
  "nbformat": 4,
  "nbformat_minor": 0,
  "metadata": {
    "colab": {
      "name": "Hello world in colab.ipynb",
      "private_outputs": true,
      "provenance": [],
      "authorship_tag": "ABX9TyM0vPQ/l7XEleDj8JpQgAb5",
      "include_colab_link": true
    },
    "kernelspec": {
      "name": "python3",
      "display_name": "Python 3"
    },
    "language_info": {
      "name": "python"
    },
    "accelerator": "GPU"
  },
  "cells": [
    {
      "cell_type": "markdown",
      "metadata": {
        "id": "view-in-github",
        "colab_type": "text"
      },
      "source": [
        "<a href=\"https://colab.research.google.com/github/harshalDharpure/Bag-of-Words/blob/main/Hello_world_in_colab.ipynb\" target=\"_parent\"><img src=\"https://colab.research.google.com/assets/colab-badge.svg\" alt=\"Open In Colab\"/></a>"
      ]
    },
    {
      "cell_type": "code",
      "metadata": {
        "id": "VE56IdP-iX5D"
      },
      "source": [
        "hello world welcome to google colab"
      ],
      "execution_count": null,
      "outputs": []
    }
  ]
}